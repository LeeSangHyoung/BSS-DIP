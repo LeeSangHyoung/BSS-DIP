{
 "cells": [
  {
   "cell_type": "code",
   "execution_count": 0,
   "metadata": {
    "application/vnd.databricks.v1+cell": {
     "cellMetadata": {
      "byteLimit": 2048000,
      "rowLimit": 10000
     },
     "inputWidgets": {},
     "nuid": "c099c068-6bd8-4a6a-88f4-2a6bd8eadfdc",
     "showTitle": false,
     "tableResultSettingsMap": {},
     "title": ""
    }
   },
   "outputs": [],
   "source": [
    "# 1) 검사할 최상위 경로를 지정\n",
    "base_path = \"s3a://act-dip-prd-dbrx-aws-ldz-bkt/HB1/HB1_INVOICE/dt=202505/database=MZ/\"\n",
    "# base_path = \"s3a://act-dip-prd-dbrx-aws-ldz-bkt/HB1/HB1_INVOICE/dt=202505/\"\n",
    "\n",
    "# 2) \"dbutils.fs.ls\"로 base_path 바로 아래 목록을 가져옵니다.\n",
    "#    - 이때 리턴되는 리스트 안에는 각 payer 폴더(예: payer=003616119634/)가 들어 있습니다.\n",
    "all_entries = dbutils.fs.ls(base_path)\n",
    "\n",
    "# 3) \"payer\" 폴더들만 골라냅니다.\n",
    "#    - 일반적으로 이름이 'payer=' 로 시작하는 디렉토리만 대상으로 삼습니다.\n",
    "payer_folders = [\n",
    "    entry.path \n",
    "    for entry in all_entries \n",
    "    if entry.isDir() and entry.name.lower().startswith(\"payer=\")\n",
    "    # if entry.isDir() and entry.name.lower().startswith(\"dt=\")\n",
    "]\n",
    "\n",
    "# 4) 각 payer 폴더를 돌면서, 내부에 \".fin\" 플래그 파일이 하나라도 있는지 확인\n",
    "payers_with_flag = []\n",
    "\n",
    "for payer_path in payer_folders:\n",
    "    # 해당 payer 폴더 안을 listing\n",
    "    try:\n",
    "        children = dbutils.fs.ls(payer_path)\n",
    "    except Exception as e:\n",
    "        # (디렉토리에 접근할 수 없거나, 권한 문제 등 예외가 발생하면 그냥 건너뜀)\n",
    "        continue\n",
    "\n",
    "    # children 리스트의 FileInfo 객체 중 하나라도 \".fin\"으로 끝나면 플래그 존재\n",
    "    found_fin = any(child.name.lower().endswith(\".fin\") for child in children)\n",
    "\n",
    "    if found_fin:\n",
    "        payers_with_flag.append(payer_path)\n",
    "\n",
    "# 5) 결과 출력\n",
    "if payers_with_flag:\n",
    "    print(\"아래 payer 폴더들에 .fin 파일이 존재합니다:\")\n",
    "    for p in payers_with_flag:\n",
    "        print(\"  \" + p)\n",
    "else:\n",
    "    print(\"조건에 맞는 .fin 파일이 있는 payer 폴더를 찾지 못했습니다.\")\n"
   ]
  }
 ],
 "metadata": {
  "application/vnd.databricks.v1+notebook": {
   "computePreferences": null,
   "dashboards": [],
   "environmentMetadata": {
    "base_environment": "",
    "environment_version": "2"
   },
   "inputWidgetPreferences": null,
   "language": "python",
   "notebookMetadata": {
    "pythonIndentUnit": 4
   },
   "notebookName": "(Clone) (Clone) fin파일 검색",
   "widgets": {}
  },
  "language_info": {
   "name": "python"
  }
 },
 "nbformat": 4,
 "nbformat_minor": 0
}
