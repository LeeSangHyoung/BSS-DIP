{
 "cells": [
  {
   "cell_type": "markdown",
   "metadata": {
    "application/vnd.databricks.v1+cell": {
     "cellMetadata": {},
     "inputWidgets": {},
     "nuid": "1d4b3987-1c2b-45b3-92c7-f4303d519d64",
     "showTitle": false,
     "tableResultSettingsMap": {},
     "title": ""
    }
   },
   "source": [
    "###✅ S3 이벤트 발생 : .fin 파일 Write to S3 "
   ]
  },
  {
   "cell_type": "markdown",
   "metadata": {
    "application/vnd.databricks.v1+cell": {
     "cellMetadata": {},
     "inputWidgets": {},
     "nuid": "e0f49b58-f971-4acb-9252-e6b8a30eb81b",
     "showTitle": false,
     "tableResultSettingsMap": {},
     "title": ""
    }
   },
   "source": [
    "####✔ Workflow 이벤트 실행 : 플래그 파일 적재   "
   ]
  },
  {
   "cell_type": "code",
   "execution_count": 0,
   "metadata": {
    "application/vnd.databricks.v1+cell": {
     "cellMetadata": {
      "byteLimit": 2048000,
      "rowLimit": 10000
     },
     "inputWidgets": {},
     "nuid": "4957a987-2bc0-43ed-a09c-14b1174724a9",
     "showTitle": false,
     "tableResultSettingsMap": {},
     "title": ""
    }
   },
   "outputs": [],
   "source": [
    "# ✔ 1) 플래그 파일 S3 경로 \n",
    "output_path = \"s3://act-dip-stg-dbrx-aws-ldz-bkt/HB1/HB1_INVOICE/dt=202505/database=MZ/payer=000126249136/event.fin\"\n",
    "\n",
    "# ✔ 2) Databricks dbutils 이용 플래그 파일 생성\n",
    "dbutils.fs.put(output_path, \"\", overwrite=True)\n",
    "\n",
    "print(f\"✔ 플래그 파일 생성 완료: {output_path}\")"
   ]
  },
  {
   "cell_type": "markdown",
   "metadata": {
    "application/vnd.databricks.v1+cell": {
     "cellMetadata": {},
     "inputWidgets": {},
     "nuid": "02aab3b5-56c0-4447-ae7b-8a3ad702d7df",
     "showTitle": false,
     "tableResultSettingsMap": {},
     "title": ""
    }
   },
   "source": [
    "####✔ ASP 이벤트 호출 테스트 "
   ]
  },
  {
   "cell_type": "code",
   "execution_count": 0,
   "metadata": {
    "application/vnd.databricks.v1+cell": {
     "cellMetadata": {
      "byteLimit": 2048000,
      "rowLimit": 10000
     },
     "inputWidgets": {},
     "nuid": "1fa2793e-c73e-4faa-b73d-d230d735ffee",
     "showTitle": false,
     "tableResultSettingsMap": {},
     "title": ""
    }
   },
   "outputs": [],
   "source": [
    "# ✔ 1) .parquet 파일 S3 경로 \n",
    "output_path = \"s3://act-dip-stg-dbrx-aws-ldz-bkt/ASP/HB1_INVOICE/dt=202505/database=MZ/event.parquet\"\n",
    "\n",
    "# ✔ 2) Databricks dbutils 이용 플래그 파일 생성\n",
    "dbutils.fs.put(output_path, \"\", overwrite=True)\n",
    "\n",
    "print(f\"✔ 플래그 파일 생성 완료: {output_path}\")\n"
   ]
  },
  {
   "cell_type": "markdown",
   "metadata": {
    "application/vnd.databricks.v1+cell": {
     "cellMetadata": {},
     "inputWidgets": {},
     "nuid": "69015cc2-d17c-4695-a1b3-d092fd69c8a4",
     "showTitle": false,
     "tableResultSettingsMap": {},
     "title": ""
    }
   },
   "source": [
    "###✅ 수행결과 확인"
   ]
  },
  {
   "cell_type": "markdown",
   "metadata": {
    "application/vnd.databricks.v1+cell": {
     "cellMetadata": {},
     "inputWidgets": {},
     "nuid": "4714bfc5-e601-4893-b584-e4c1c1dad68a",
     "showTitle": false,
     "tableResultSettingsMap": {},
     "title": ""
    }
   },
   "source": [
    "####✔ 워크플로우 실행 로그 확인"
   ]
  },
  {
   "cell_type": "code",
   "execution_count": 0,
   "metadata": {
    "application/vnd.databricks.v1+cell": {
     "cellMetadata": {
      "byteLimit": 2048000,
      "implicitDf": true,
      "rowLimit": 10000
     },
     "inputWidgets": {},
     "nuid": "370b61f4-1b01-429d-820b-fa5732bfac72",
     "showTitle": false,
     "tableResultSettingsMap": {},
     "title": ""
    }
   },
   "outputs": [],
   "source": [
    "%sql \n",
    "\n",
    "   SELECT * \n",
    "     FROM act_dip_stg_dbrx_wks.sbadm.tbb_etl_task_log\n",
    "    WHERE job_nm = 'wf_hb1_tbs_aws_hb1_ym_inv_sm_d'\n",
    "    and    inst_ddtm >= '2025-06-09 12:00:00.000'\n",
    " ORDER BY srt_ddtm DESC \n"
   ]
  },
  {
   "cell_type": "markdown",
   "metadata": {
    "application/vnd.databricks.v1+cell": {
     "cellMetadata": {},
     "inputWidgets": {},
     "nuid": "2a8b10be-c1d2-4cbd-90b2-32493509409c",
     "showTitle": false,
     "tableResultSettingsMap": {},
     "title": ""
    }
   },
   "source": [
    "####✔ 워크플로우 실행 로그 테이블 초기화 "
   ]
  },
  {
   "cell_type": "code",
   "execution_count": 0,
   "metadata": {
    "application/vnd.databricks.v1+cell": {
     "cellMetadata": {
      "byteLimit": 2048000,
      "implicitDf": true,
      "rowLimit": 10000
     },
     "inputWidgets": {},
     "nuid": "e596b834-c6b2-4f81-a853-c966789b1eb3",
     "showTitle": false,
     "tableResultSettingsMap": {},
     "title": ""
    }
   },
   "outputs": [],
   "source": [
    "%sql \n",
    "DELETE FROM act_dip_stg_dbrx_wks.sbadm.tbb_etl_task_log"
   ]
  },
  {
   "cell_type": "markdown",
   "metadata": {
    "application/vnd.databricks.v1+cell": {
     "cellMetadata": {},
     "inputWidgets": {},
     "nuid": "667c9e59-5499-4c54-a34a-355e9554f07e",
     "showTitle": false,
     "tableResultSettingsMap": {},
     "title": ""
    }
   },
   "source": [
    "###✅ 데이터 검증"
   ]
  },
  {
   "cell_type": "markdown",
   "metadata": {
    "application/vnd.databricks.v1+cell": {
     "cellMetadata": {},
     "inputWidgets": {},
     "nuid": "6821521d-8c21-4181-bb48-29898b900028",
     "showTitle": false,
     "tableResultSettingsMap": {},
     "title": ""
    }
   },
   "source": [
    "####✔ 랜딩존 (prd, stg) parquet 파일 확인 \n"
   ]
  },
  {
   "cell_type": "code",
   "execution_count": 0,
   "metadata": {
    "application/vnd.databricks.v1+cell": {
     "cellMetadata": {
      "byteLimit": 2048000,
      "rowLimit": 10000
     },
     "inputWidgets": {},
     "nuid": "3eaf6d8b-44a0-4529-99e7-dfe748612b67",
     "showTitle": false,
     "tableResultSettingsMap": {},
     "title": ""
    }
   },
   "outputs": [],
   "source": [
    "prd_path_inv = \"s3://act-dip-prd-dbrx-aws-ldz-bkt/HB1/HB1_INVOICE/dt=202505\"\n",
    "stg_path_inv = \"s3://act-dip-stg-dbrx-aws-ldz-bkt/HB1/HB1_INVOICE/dt=202505\"\n",
    "\n",
    "prd_df_inv = spark.read.option(\"pathGlobFilter\", \"*.parquet\").parquet(prd_path_inv)\n",
    "stg_df_inv = spark.read.option(\"pathGlobFilter\", \"*.parquet\").parquet(stg_path_inv)\n",
    "\n",
    "# 임시 뷰 등록\n",
    "prd_df_inv.createOrReplaceTempView(\"prd_inv_data\")\n",
    "stg_df_inv.createOrReplaceTempView(\"stg_inv_data\")\n",
    "\n",
    "# Invoice \n",
    "total = spark.sql(\"\"\"\n",
    "  SELECT 'production landing zone s3 invoice', COUNT(*), SUM(all_unblendedcost) AS usageamount\n",
    "  FROM prd_inv_data\n",
    "  \n",
    "  UNION\n",
    "\n",
    "  SELECT 'staging landing zone s3 invoice', COUNT(*), SUM(all_unblendedcost) AS usageamount\n",
    "  FROM stg_inv_data\n",
    "\"\"\")\n",
    "\n",
    "# 결과 출력\n",
    "display(total) "
   ]
  },
  {
   "cell_type": "markdown",
   "metadata": {
    "application/vnd.databricks.v1+cell": {
     "cellMetadata": {},
     "inputWidgets": {},
     "nuid": "5bfc962a-a722-4bec-9045-d873c3bd14bf",
     "showTitle": false,
     "tableResultSettingsMap": {},
     "title": ""
    }
   },
   "source": [
    "####✔ prd, stg 영역 Bronze, Silver 영역 데이터 확인  "
   ]
  },
  {
   "cell_type": "code",
   "execution_count": 0,
   "metadata": {
    "application/vnd.databricks.v1+cell": {
     "cellMetadata": {
      "byteLimit": 2048000,
      "implicitDf": true,
      "rowLimit": 10000
     },
     "inputWidgets": {},
     "nuid": "04cc42c4-3788-4c10-ae57-0b5412679dc7",
     "showTitle": false,
     "tableResultSettingsMap": {},
     "title": ""
    }
   },
   "outputs": [],
   "source": [
    "%sql \n",
    "\n",
    "select 'stg invoice bronze', COUNT(*), sum(all_unblendedcost)\n",
    "from act_dip_stg_dbrx_aws_cat.sbaws.tbb_aws_hb1_ym_inv_sm  where dt = '202505' \n",
    "\n",
    "union \n",
    "\n",
    "select 'stg invoice silver', COUNT(*), sum(all_unblendedcost)\n",
    "from act_dip_stg_dbrx_aws_cat.ssaws.tbs_aws_hb1_ym_inv_sm  where dt = '202505' \n",
    "\n",
    "union \n",
    "\n",
    "select 'prd invoice bronze', COUNT(*), sum(all_unblendedcost)\n",
    "from act_dip_prd_dbrx_aws_cat.sbaws.tbb_aws_hb1_ym_inv_sm  where dt = '202505' \n",
    "\n",
    "union \n",
    "\n",
    "select 'prd invoice silver', COUNT(*), sum(all_unblendedcost)\n",
    "from act_dip_prd_dbrx_aws_cat.ssaws.tbs_aws_hb1_ym_inv_sm  where dt = '202505' "
   ]
  },
  {
   "cell_type": "markdown",
   "metadata": {
    "application/vnd.databricks.v1+cell": {
     "cellMetadata": {},
     "inputWidgets": {},
     "nuid": "da7ad6f9-8c40-4fa2-9a2b-87884e9598ba",
     "showTitle": false,
     "tableResultSettingsMap": {},
     "title": ""
    }
   },
   "source": [
    "####✔ ASP 영역 전달 parquet 파일 확인 "
   ]
  },
  {
   "cell_type": "code",
   "execution_count": 0,
   "metadata": {
    "application/vnd.databricks.v1+cell": {
     "cellMetadata": {
      "byteLimit": 2048000,
      "rowLimit": 10000
     },
     "inputWidgets": {},
     "nuid": "43198b7a-551e-4487-a0ab-ebf055275f7d",
     "showTitle": false,
     "tableResultSettingsMap": {},
     "title": ""
    }
   },
   "outputs": [],
   "source": [
    "# 결과 파일 경로 \n",
    "prd_path_mz     = \"s3://act-dip-prd-dbrx-aws-ldz-bkt/ASP/HB1_INVOICE/dt=202505/database=MZ\"\n",
    "prd_path_nexon  = \"s3://act-dip-prd-dbrx-aws-ldz-bkt/ASP/HB1_INVOICE/dt=202505/database=NEXON\"\n",
    "stg_path_mz     = \"s3://act-dip-stg-dbrx-aws-ldz-bkt/ASP/HB1_INVOICE/dt=202505/database=MZ\"\n",
    "stg_path_nexon  = \"s3://act-dip-stg-dbrx-aws-ldz-bkt/ASP/HB1_INVOICE/dt=202505/database=NEXON\"\n",
    "stg_mz_bad_file    = stg_path_mz    + \"/event.parquet\"\n",
    "stg_nexon_bad_file = stg_path_nexon + \"/event.parquet\"\n",
    "prd_mz_bad_file    = prd_path_mz    + \"/event.parquet\"\n",
    "prd_nexon_bad_file = prd_path_nexon + \"/event.parquet\"\n",
    "\n",
    "# 플래그 파일 삭제 후 적재 parquet파일 값 확인 ( recurse=True : 디렉터리/파일 상관없이 강제 삭제) \n",
    "dbutils.fs.rm(stg_mz_bad_file   , recurse=True)\n",
    "dbutils.fs.rm(stg_nexon_bad_file, recurse=True)\n",
    "dbutils.fs.rm(prd_mz_bad_file   , recurse=True)\n",
    "dbutils.fs.rm(prd_nexon_bad_file, recurse=True)\n",
    "\n",
    "# dataframe 생성 \n",
    "stg_mz_df_invoice    = spark.read.option(\"pathGlobFilter\", \"*.parquet\").parquet(stg_path_mz   )\n",
    "stg_nexon_df_invoice = spark.read.option(\"pathGlobFilter\", \"*.parquet\").parquet(stg_path_nexon)\n",
    "prd_mz_df_invoice    = spark.read.option(\"pathGlobFilter\", \"*.parquet\").parquet(prd_path_mz   )\n",
    "prd_nexon_df_invoice = spark.read.option(\"pathGlobFilter\", \"*.parquet\").parquet(prd_path_nexon)\n",
    "\n",
    "# 임시 뷰 등록\n",
    "stg_mz_df_invoice.createOrReplaceTempView(   \"stg_mz_inv_data\"   )\n",
    "stg_nexon_df_invoice.createOrReplaceTempView(\"stg_nexon_inv_data\")\n",
    "prd_mz_df_invoice.createOrReplaceTempView(   \"prd_mz_inv_data\"   )\n",
    "prd_nexon_df_invoice.createOrReplaceTempView(\"prd_nexon_inv_data\")\n",
    "\n",
    "# Invoice \n",
    "total = spark.sql(\"\"\"\n",
    "  SELECT 'stg asp (MZ)    s3 invoice', COUNT(*), SUM(all_unblendedcost) AS usageamount  FROM stg_mz_inv_data \n",
    "  UNION ALL \n",
    "  SELECT 'stg asp (NEXON) s3 invoice', COUNT(*), SUM(all_unblendedcost) AS usageamount  FROM stg_nexon_inv_data \n",
    "  UNION ALL \n",
    "  SELECT 'prd asp (MZ)    s3 invoice', COUNT(*), SUM(all_unblendedcost) AS usageamount  FROM prd_mz_inv_data \n",
    "  UNION ALL \n",
    "  SELECT 'prd asp (NEXON) s3 invoice', COUNT(*), SUM(all_unblendedcost) AS usageamount  FROM prd_nexon_inv_data \n",
    "\"\"\")\n",
    "\n",
    "# 결과 출력\n",
    "display(total) "
   ]
  },
  {
   "cell_type": "markdown",
   "metadata": {
    "application/vnd.databricks.v1+cell": {
     "cellMetadata": {},
     "inputWidgets": {},
     "nuid": "076db949-2b9a-4664-af7d-855211277e7a",
     "showTitle": false,
     "tableResultSettingsMap": {},
     "title": ""
    }
   },
   "source": [
    "###🚧 테스트 데이터 이관"
   ]
  },
  {
   "cell_type": "markdown",
   "metadata": {
    "application/vnd.databricks.v1+cell": {
     "cellMetadata": {},
     "inputWidgets": {},
     "nuid": "225370f2-3481-47c1-b9b9-78f41773c888",
     "showTitle": false,
     "tableResultSettingsMap": {},
     "title": ""
    }
   },
   "source": [
    "####✔ Invoice 데이터 이관"
   ]
  },
  {
   "cell_type": "code",
   "execution_count": 0,
   "metadata": {
    "application/vnd.databricks.v1+cell": {
     "cellMetadata": {
      "byteLimit": 2048000,
      "rowLimit": 10000
     },
     "inputWidgets": {},
     "nuid": "ae26f36c-f70f-478a-89cf-d6cff68a53b1",
     "showTitle": false,
     "tableResultSettingsMap": {},
     "title": ""
    }
   },
   "outputs": [],
   "source": [
    "# 원본 및 대상 S3 경로\n",
    "prd_path = \"s3://act-dip-prd-dbrx-aws-ldz-bkt/HB1/HB1_INVOICE/dt=202505\"\n",
    "stg_path = \"s3://act-dip-stg-dbrx-aws-ldz-bkt/HB1/HB1_INVOICE/dt=202505\"\n",
    "\n",
    "\n",
    "def copy_s3_folder(src, dst):\n",
    "    files = dbutils.fs.ls(src)\n",
    "    for f in files:\n",
    "        if f.isDir():\n",
    "            # 재귀적으로 하위 폴더 복사\n",
    "            new_dst = f\"{dst}/{f.name}\"\n",
    "            copy_s3_folder(f.path, new_dst)\n",
    "        else:\n",
    "            # 파일 직접 복사\n",
    "            dbutils.fs.cp(f.path, f\"{dst}/{f.name}\")\n",
    "\n",
    "# 기존 stg 경로 삭제(옵션)\n",
    "dbutils.fs.rm(stg_path, True)\n",
    "\n",
    "print(f\"Copying files from {prd_path} to {stg_path} ...\")\n",
    "copy_s3_folder(prd_path, stg_path)\n",
    "print(\"✅ 1:1 파일 복사 완료\")\n"
   ]
  },
  {
   "cell_type": "markdown",
   "metadata": {
    "application/vnd.databricks.v1+cell": {
     "cellMetadata": {},
     "inputWidgets": {},
     "nuid": "93933231-3a25-427f-920a-33cc1d533c98",
     "showTitle": false,
     "tableResultSettingsMap": {},
     "title": ""
    }
   },
   "source": [
    "####✔ 이관 Invoice 데이터 비교 "
   ]
  },
  {
   "cell_type": "code",
   "execution_count": 0,
   "metadata": {
    "application/vnd.databricks.v1+cell": {
     "cellMetadata": {
      "byteLimit": 2048000,
      "rowLimit": 10000
     },
     "inputWidgets": {},
     "nuid": "e626ba74-61a8-4dbc-ab31-bf4db8c59946",
     "showTitle": false,
     "tableResultSettingsMap": {},
     "title": ""
    }
   },
   "outputs": [],
   "source": [
    "\n",
    "import re\n",
    "\n",
    "databases = ['MZ', 'NEXON']                                      # 파티션(데이터베이스) 목록\n",
    "dt        = '202505'                                             # 수행 월 \n",
    "result    = []                                                   # 결과 저장 리스트\n",
    "base_path = \"s3://act-dip-stg-dbrx-aws-ldz-bkt/HB1/HB1_INVOICE\"  # S3 경로\n",
    "\n",
    "for db in databases:\n",
    "\n",
    "    payer_root    = f\"{base_path}/dt={dt}/database={db}/\"\n",
    "    payer_folders = [f.path for f in dbutils.fs.ls(payer_root) if f.isDir()]\n",
    "\n",
    "    for payer_folder in payer_folders:\n",
    "\n",
    "        match         = re.search(r'payer-([0-9]+)', payer_folder)\n",
    "        payer_id      = match.group(1) if match else payer_folder.rstrip('/').split('/')[-1]          # payer_id 추출\n",
    "        parquet_files = [f.path for f in dbutils.fs.ls(payer_folder) if f.path.endswith('.parquet')]  # payer 폴더 내 Parquet 파일 나열\n",
    "\n",
    "        for file_path in parquet_files:\n",
    "            try:\n",
    "                df        = spark.read.parquet(file_path)\n",
    "                row_count = df.count()\n",
    "            except Exception as e:\n",
    "                row_count = 0  \n",
    "            result.append((db, payer_id, file_path, row_count))\n",
    "\n",
    "# 결과 DataFrame\n",
    "schema    = [\"database\", \"payer_id\", \"file_path\", \"row_count\"]\n",
    "result_df = spark.createDataFrame(result, schema=schema)\n",
    "\n",
    "result_df.display()"
   ]
  },
  {
   "cell_type": "markdown",
   "metadata": {
    "application/vnd.databricks.v1+cell": {
     "cellMetadata": {},
     "inputWidgets": {},
     "nuid": "595d0bc7-f606-4ed4-a4bb-251c6d2d6cc8",
     "showTitle": false,
     "tableResultSettingsMap": {},
     "title": ""
    }
   },
   "source": [
    "###🚧 파일 위치 확인 "
   ]
  },
  {
   "cell_type": "code",
   "execution_count": 0,
   "metadata": {
    "application/vnd.databricks.v1+cell": {
     "cellMetadata": {
      "byteLimit": 2048000,
      "rowLimit": 10000
     },
     "inputWidgets": {},
     "nuid": "0f47034e-2014-4480-a846-a3c700235435",
     "showTitle": false,
     "tableResultSettingsMap": {},
     "title": ""
    }
   },
   "outputs": [],
   "source": [
    "\n",
    "\n"
   ]
  }
 ],
 "metadata": {
  "application/vnd.databricks.v1+notebook": {
   "computePreferences": null,
   "dashboards": [],
   "environmentMetadata": {
    "base_environment": "",
    "environment_version": "2"
   },
   "inputWidgetPreferences": null,
   "language": "python",
   "notebookMetadata": {
    "mostRecentlyExecutedCommandWithImplicitDF": {
     "commandId": 3372716131055562,
     "dataframes": [
      "_sqldf"
     ]
    },
    "pythonIndentUnit": 4
   },
   "notebookName": "(Clone) (Clone) SandBox-Invoice-UnionTest",
   "widgets": {}
  },
  "language_info": {
   "name": "python"
  }
 },
 "nbformat": 4,
 "nbformat_minor": 0
}
